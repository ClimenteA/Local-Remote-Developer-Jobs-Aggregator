{
 "cells": [
  {
   "cell_type": "code",
   "execution_count": 1,
   "metadata": {},
   "outputs": [],
   "source": [
    "import json"
   ]
  },
  {
   "cell_type": "code",
   "execution_count": 2,
   "metadata": {},
   "outputs": [],
   "source": [
    "# Load websites file\n",
    "with open('websites.json') as f:\n",
    "    websites = json.load(f)\n",
    "\n",
    "website_names = list(websites.keys())\n"
   ]
  },
  {
   "cell_type": "code",
   "execution_count": 3,
   "metadata": {},
   "outputs": [],
   "source": [
    "websites_extra = list(filter(lambda key: key if key.startswith(\"_\") else None, \n",
    "                                 website_names))"
   ]
  },
  {
   "cell_type": "code",
   "execution_count": 4,
   "metadata": {},
   "outputs": [
    {
     "name": "stdout",
     "output_type": "stream",
     "text": [
      "https://jobs.lever.co\n",
      "https://boards.greenhouse.io\n",
      "https://jobs.smartrecruiters.com\n",
      "https://apply.workable.com\n",
      "https://www.jobradar24.ro/locuri-de-munca/remote?sf=1&so=1\n",
      "https://www.crossover.com/jobs\n",
      "https://stackoverflow.com/jobs?r=true&sort=p\n",
      "https://hitmarker.net/jobs?location=remote&contract=fullTime\n"
     ]
    }
   ],
   "source": [
    "for site_name in websites_extra:\n",
    "    print(websites[site_name]['link'])\n",
    "    "
   ]
  },
  {
   "cell_type": "code",
   "execution_count": 5,
   "metadata": {},
   "outputs": [
    {
     "data": {
      "text/plain": [
       "['remotive_dev',\n",
       " 'remotive_customer_support',\n",
       " 'remoteok_dev',\n",
       " 'remoteok_customer_support',\n",
       " 'remoteok_non_tech',\n",
       " 'ejobs',\n",
       " 'bestjobs',\n",
       " 'indeed',\n",
       " 'jsremotely',\n",
       " 'vuejobs',\n",
       " 'remoteco_dev',\n",
       " 'remoteco_customer_support',\n",
       " 'remoteco_data_entry',\n",
       " 'remoteco_online_editing',\n",
       " 'remoteco_recruiter',\n",
       " 'remoteco_it',\n",
       " 'remoteco_qa',\n",
       " 'remoteco_virtual_assistant',\n",
       " 'remoteco_online_teaching',\n",
       " 'remoteco_writing',\n",
       " 'remoteco_other',\n",
       " 'jobssup_dev',\n",
       " 'jobssup_customer_support',\n",
       " 'jobssup_administrativ',\n",
       " 'jobssup_hr',\n",
       " 'weworkremotely_dev',\n",
       " 'weworkremotely_customer_support',\n",
       " 'weworkremotely_other',\n",
       " 'weworkremotely_contract',\n",
       " 'weworkremotely_fulltime',\n",
       " 'remoters_dev',\n",
       " 'remoters_other',\n",
       " 'remoters_customer_support',\n",
       " 'remoters_copywriting',\n",
       " 'workingnomads_dev',\n",
       " 'workingnomads_writing',\n",
       " 'workingnomads_customer_support',\n",
       " 'workingnomads_hr',\n",
       " 'nodesk_dev',\n",
       " 'nodesk_non_tech',\n",
       " 'nodesk_customer_support',\n",
       " 'justremote_dev',\n",
       " 'justremote_customer_support',\n",
       " 'justremote_editing_jobs',\n",
       " 'justremote_hr',\n",
       " 'justremote_writing',\n",
       " 'reactjobs',\n",
       " 'dynamitejobs_dev',\n",
       " 'dynamitejobs_customer_service',\n",
       " 'dynamitejobs_data_analyst',\n",
       " 'dynamitejobs_hr',\n",
       " 'dynamitejobs_tech_support',\n",
       " 'dynamitejobs_writing',\n",
       " 'dynamitejobs_virtual_assistant',\n",
       " 'euremotejobs',\n",
       " '_jobs_lever',\n",
       " '_boards_greenhouse',\n",
       " '_jobs_smartrecruiters',\n",
       " '_apply_workable',\n",
       " 'sitepoint',\n",
       " '_jobradar24',\n",
       " '_crossover',\n",
       " '_stackoverflow',\n",
       " '_hitmarker']"
      ]
     },
     "execution_count": 5,
     "metadata": {},
     "output_type": "execute_result"
    }
   ],
   "source": [
    "website_names"
   ]
  },
  {
   "cell_type": "code",
   "execution_count": 7,
   "metadata": {},
   "outputs": [],
   "source": [
    "import itertools"
   ]
  },
  {
   "cell_type": "code",
   "execution_count": 18,
   "metadata": {},
   "outputs": [],
   "source": [
    "def grouper(size, iterable):\n",
    "    it = iter(iterable)\n",
    "    while True:\n",
    "        group = list(itertools.islice(it, None, size))\n",
    "        if not group:\n",
    "            break\n",
    "        yield group"
   ]
  },
  {
   "cell_type": "code",
   "execution_count": 22,
   "metadata": {},
   "outputs": [
    {
     "name": "stdout",
     "output_type": "stream",
     "text": [
      "56 job pages to be parsed!\n"
     ]
    }
   ],
   "source": [
    "website_names = [w for w in list(websites.keys()) if not w.startswith(\"_\")]\n",
    "print(f\"{len(website_names)} job pages to be parsed!\")"
   ]
  },
  {
   "cell_type": "code",
   "execution_count": 27,
   "metadata": {},
   "outputs": [
    {
     "data": {
      "text/plain": [
       "7.0"
      ]
     },
     "execution_count": 27,
     "metadata": {},
     "output_type": "execute_result"
    }
   ],
   "source": [
    "len(website_names) / 8"
   ]
  },
  {
   "cell_type": "code",
   "execution_count": null,
   "metadata": {},
   "outputs": [],
   "source": []
  },
  {
   "cell_type": "code",
   "execution_count": null,
   "metadata": {},
   "outputs": [],
   "source": []
  },
  {
   "cell_type": "code",
   "execution_count": null,
   "metadata": {},
   "outputs": [],
   "source": []
  },
  {
   "cell_type": "code",
   "execution_count": null,
   "metadata": {},
   "outputs": [],
   "source": []
  },
  {
   "cell_type": "code",
   "execution_count": null,
   "metadata": {},
   "outputs": [],
   "source": []
  },
  {
   "cell_type": "code",
   "execution_count": null,
   "metadata": {},
   "outputs": [],
   "source": []
  },
  {
   "cell_type": "code",
   "execution_count": null,
   "metadata": {},
   "outputs": [],
   "source": []
  },
  {
   "cell_type": "code",
   "execution_count": null,
   "metadata": {},
   "outputs": [],
   "source": []
  },
  {
   "cell_type": "code",
   "execution_count": null,
   "metadata": {},
   "outputs": [],
   "source": []
  },
  {
   "cell_type": "code",
   "execution_count": null,
   "metadata": {},
   "outputs": [],
   "source": []
  },
  {
   "cell_type": "code",
   "execution_count": null,
   "metadata": {},
   "outputs": [],
   "source": []
  },
  {
   "cell_type": "code",
   "execution_count": null,
   "metadata": {},
   "outputs": [],
   "source": []
  },
  {
   "cell_type": "code",
   "execution_count": null,
   "metadata": {},
   "outputs": [],
   "source": []
  },
  {
   "cell_type": "code",
   "execution_count": null,
   "metadata": {},
   "outputs": [],
   "source": []
  },
  {
   "cell_type": "code",
   "execution_count": null,
   "metadata": {},
   "outputs": [],
   "source": []
  },
  {
   "cell_type": "code",
   "execution_count": null,
   "metadata": {},
   "outputs": [],
   "source": []
  },
  {
   "cell_type": "code",
   "execution_count": 20,
   "metadata": {},
   "outputs": [
    {
     "data": {
      "text/plain": [
       "[['remotive_dev',\n",
       "  'remotive_customer_support',\n",
       "  'remoteok_dev',\n",
       "  'remoteok_customer_support',\n",
       "  'remoteok_non_tech'],\n",
       " ['ejobs', 'bestjobs', 'indeed', 'jsremotely', 'vuejobs'],\n",
       " ['remoteco_dev',\n",
       "  'remoteco_customer_support',\n",
       "  'remoteco_data_entry',\n",
       "  'remoteco_online_editing',\n",
       "  'remoteco_recruiter'],\n",
       " ['remoteco_it',\n",
       "  'remoteco_qa',\n",
       "  'remoteco_virtual_assistant',\n",
       "  'remoteco_online_teaching',\n",
       "  'remoteco_writing'],\n",
       " ['remoteco_other',\n",
       "  'jobssup_dev',\n",
       "  'jobssup_customer_support',\n",
       "  'jobssup_administrativ',\n",
       "  'jobssup_hr'],\n",
       " ['weworkremotely_dev',\n",
       "  'weworkremotely_customer_support',\n",
       "  'weworkremotely_other',\n",
       "  'weworkremotely_contract',\n",
       "  'weworkremotely_fulltime'],\n",
       " ['remoters_dev',\n",
       "  'remoters_other',\n",
       "  'remoters_customer_support',\n",
       "  'remoters_copywriting',\n",
       "  'workingnomads_dev'],\n",
       " ['workingnomads_writing',\n",
       "  'workingnomads_customer_support',\n",
       "  'workingnomads_hr',\n",
       "  'nodesk_dev',\n",
       "  'nodesk_non_tech'],\n",
       " ['nodesk_customer_support',\n",
       "  'justremote_dev',\n",
       "  'justremote_customer_support',\n",
       "  'justremote_editing_jobs',\n",
       "  'justremote_hr'],\n",
       " ['justremote_writing',\n",
       "  'reactjobs',\n",
       "  'dynamitejobs_dev',\n",
       "  'dynamitejobs_customer_service',\n",
       "  'dynamitejobs_data_analyst'],\n",
       " ['dynamitejobs_hr',\n",
       "  'dynamitejobs_tech_support',\n",
       "  'dynamitejobs_writing',\n",
       "  'dynamitejobs_virtual_assistant',\n",
       "  'euremotejobs'],\n",
       " ['_jobs_lever',\n",
       "  '_boards_greenhouse',\n",
       "  '_jobs_smartrecruiters',\n",
       "  '_apply_workable',\n",
       "  'sitepoint'],\n",
       " ['_jobradar24', '_crossover', '_stackoverflow', '_hitmarker']]"
      ]
     },
     "execution_count": 20,
     "metadata": {},
     "output_type": "execute_result"
    }
   ],
   "source": [
    "list(grouper(size=5, iterable=website_names))"
   ]
  },
  {
   "cell_type": "code",
   "execution_count": null,
   "metadata": {},
   "outputs": [],
   "source": []
  },
  {
   "cell_type": "code",
   "execution_count": null,
   "metadata": {},
   "outputs": [],
   "source": []
  },
  {
   "cell_type": "code",
   "execution_count": null,
   "metadata": {},
   "outputs": [],
   "source": []
  }
 ],
 "metadata": {
  "kernelspec": {
   "display_name": "Python 3",
   "language": "python",
   "name": "python3"
  },
  "language_info": {
   "codemirror_mode": {
    "name": "ipython",
    "version": 3
   },
   "file_extension": ".py",
   "mimetype": "text/x-python",
   "name": "python",
   "nbconvert_exporter": "python",
   "pygments_lexer": "ipython3",
   "version": "3.8.2"
  }
 },
 "nbformat": 4,
 "nbformat_minor": 4
}
